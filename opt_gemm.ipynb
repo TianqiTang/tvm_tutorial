{
 "cells": [
  {
   "cell_type": "code",
   "execution_count": 1,
   "metadata": {},
   "outputs": [],
   "source": [
    "%matplotlib inline"
   ]
  },
  {
   "cell_type": "markdown",
   "metadata": {},
   "source": [
    "\n",
    "\n",
    "How to optimize GEMM on CPU\n",
    "===========================\n",
    "**Author**: `Jian Weng <https://github.com/were>`_,             `Ruofei Yu <https://github.com/yuruofeifei>`_\n",
    "\n",
    "The original webpage: https://tvm.apache.org/docs/how_to/optimize_operators/opt_gemm.html\n",
    "\n",
    "(TL;DR) TVM provides abstract interfaces which allows users to depict an algorithm and the\n",
    "algorithm's implementing organization (the so-called schedule) separately. Typically, writing\n",
    "algorithm in high-performance schedule breaks the algorithm's readability and modularity. Also,\n",
    "trying various seemingly promising schedules is time-consuming. With the help of TVM, we can\n",
    "try these schedules efficiently to enhance the performance.\n",
    "\n",
    "In this tutorial, we will demonstrate how to use TVM to optimize square matrix multiplication\n",
    "and achieve 200 times faster than baseline by simply adding 18 extra lines of code.\n",
    "\n",
    "There are two important optimizations on intense computation applications executed on CPU:\n",
    "    1. Increase the cache hit rate of memory access. Both complex numerical computation and hot-spot\n",
    "       memory access can be accelerated from high cache hit rate. This requires us to transform the\n",
    "       origin memory access pattern to the pattern fits the cache policy.\n",
    "    2. SIMD (Single instruction multi-data), or we call it vector processing unit. Every time, a\n",
    "       small batch of data, rather than a single grid, will be processed. This requires us to\n",
    "       transform the data access pattern in the loop body in uniform pattern so that the LLVM\n",
    "       backend can lower it to SIMD.\n",
    "\n",
    "Actually, all the methodologies used in this tutorial is a subset of tricks mentioned in this\n",
    "`repo <https://github.com/flame/how-to-optimize-gemm>`_. Some of them have been applied by TVM\n",
    "abstraction automatically, but some of them cannot be simply applied due to TVM constraints.\n",
    "\n",
    "All the experiment results mentioned below, are executed on 2015's 15' MacBook equipped with\n",
    "Intel i7-4770HQ CPU. The cache line size should be 64 bytes for all the x86 CPUs.\n",
    "\n"
   ]
  },
  {
   "cell_type": "markdown",
   "metadata": {},
   "source": [
    "Preparation and Baseline\n",
    "------------------------\n",
    "In this tutorial, we will demo how to use TVM to optimize matrix multiplication.\n",
    "Before actually demonstrating, we first define these variables.\n",
    "Then we write a baseline implementation, the simplest way to write a matrix multiplication in TVM.\n",
    "\n"
   ]
  },
  {
   "cell_type": "code",
   "execution_count": 2,
   "metadata": {},
   "outputs": [
    {
     "name": "stdout",
     "output_type": "stream",
     "text": [
      "Numpy running time: 0.005333\n",
      "Baseline: 2.150857\n"
     ]
    }
   ],
   "source": [
    "import tvm\n",
    "import tvm.testing\n",
    "from tvm import te\n",
    "import numpy\n",
    "import timeit\n",
    "\n",
    "# The size of the matrix\n",
    "# (M, K) x (K, N)\n",
    "# You are free to try out different shapes, sometimes TVM optimization outperforms numpy with MKL.\n",
    "M = 1024\n",
    "K = 1024\n",
    "N = 1024\n",
    "\n",
    "# The default tensor type in tvm\n",
    "dtype = \"float32\"\n",
    "\n",
    "# using Intel AVX2(Advanced Vector Extensions) ISA for SIMD\n",
    "# To get the best performance, please change the following line\n",
    "# to llvm -mcpu=core-avx2, or specific type of CPU you use\n",
    "target = \"llvm\"\n",
    "dev = tvm.device(target, 0)\n",
    "\n",
    "# Random generated tensor for testing\n",
    "a = tvm.nd.array(numpy.random.rand(M, K).astype(dtype), dev)\n",
    "b = tvm.nd.array(numpy.random.rand(K, N).astype(dtype), dev)\n",
    "\n",
    "np_repeat = 100\n",
    "np_runing_time = timeit.timeit(\n",
    "    setup=\"import numpy\\n\"\n",
    "    \"M = \" + str(M) + \"\\n\"\n",
    "    \"K = \" + str(K) + \"\\n\"\n",
    "    \"N = \" + str(N) + \"\\n\"\n",
    "    'dtype = \"float32\"\\n'\n",
    "    \"a = numpy.random.rand(M, K).astype(dtype)\\n\"\n",
    "    \"b = numpy.random.rand(K, N).astype(dtype)\\n\",\n",
    "    stmt=\"answer = numpy.dot(a, b)\",\n",
    "    number=np_repeat,\n",
    ")\n",
    "print(\"Numpy running time: %f\" % (np_runing_time / np_repeat))\n",
    "\n",
    "answer = numpy.dot(a.numpy(), b.numpy())\n",
    "\n",
    "# Algorithm\n",
    "k = te.reduce_axis((0, K), \"k\")\n",
    "A = te.placeholder((M, K), name=\"A\")\n",
    "B = te.placeholder((K, N), name=\"B\")\n",
    "C = te.compute((M, N), lambda m, n: te.sum(A[m, k] * B[k, n], axis=k), name=\"C\")\n",
    "\n",
    "# Default schedule\n",
    "s = te.create_schedule(C.op)\n",
    "func = tvm.build(s, [A, B, C], target=target, name=\"mmult\")\n",
    "assert func\n",
    "\n",
    "c = tvm.nd.array(numpy.zeros((M, N), dtype=dtype), dev)\n",
    "func(a, b, c)\n",
    "tvm.testing.assert_allclose(c.numpy(), answer, rtol=1e-5)\n",
    "\n",
    "evaluator = func.time_evaluator(func.entry_name, dev, number=1)\n",
    "print(\"Baseline: %f\" % evaluator(a, b, c).mean)"
   ]
  },
  {
   "cell_type": "markdown",
   "metadata": {},
   "source": [
    "In TVM, we can always inspect lower level IR to debug or optimize our schedule.\n",
    "Here is the generated IR using our baseline schedule.\n",
    "\n"
   ]
  },
  {
   "cell_type": "code",
   "execution_count": 3,
   "metadata": {},
   "outputs": [
    {
     "name": "stdout",
     "output_type": "stream",
     "text": [
      "primfn(A_1: handle, B_1: handle, C_1: handle) -> ()\n",
      "  attr = {\"from_legacy_te_schedule\": True, \"global_symbol\": \"main\", \"tir.noalias\": True}\n",
      "  buffers = {C: Buffer(C_2: Pointer(float32), float32, [1024, 1024], []),\n",
      "             A: Buffer(A_2: Pointer(float32), float32, [1024, 1024], []),\n",
      "             B: Buffer(B_2: Pointer(float32), float32, [1024, 1024], [])}\n",
      "  buffer_map = {A_1: A, B_1: B, C_1: C} {\n",
      "  for (m: int32, 0, 1024) {\n",
      "    for (n: int32, 0, 1024) {\n",
      "      C_2[((m*1024) + n)] = 0f32\n",
      "      for (k: int32, 0, 1024) {\n",
      "        C_2[((m*1024) + n)] = ((float32*)C_2[((m*1024) + n)] + ((float32*)A_2[((m*1024) + k)]*(float32*)B_2[((k*1024) + n)]))\n",
      "      }\n",
      "    }\n",
      "  }\n",
      "}\n",
      "\n",
      "\n"
     ]
    }
   ],
   "source": [
    "print(tvm.lower(s, [A, B, C], simple_mode=True))"
   ]
  },
  {
   "cell_type": "markdown",
   "metadata": {},
   "source": [
    "Blocking\n",
    "--------\n",
    "A important trick to enhance the cache hit rate is blocking --- data chunk will be computed\n",
    "block by block. The memory access inside the block is a small neighbourhood which is with high\n",
    "memory locality. In this tutorial, I picked up 32 as the blocking factor. So the block will\n",
    "fill 32 * 32 * sizeof(float) which is 4KB in the cache whose total size is 32KB (L1 data cache).\n",
    "\n",
    "Opt1: Blocking\n",
    "\n",
    "| Settings                            | Latency |                                |\n",
    "| :---------------------------------- | :-----: | :----------------------------: |\n",
    "| Baseline                            |2.150857 |                                |\n",
    "| s[C].reorder(mo, no, mi, ni, ko, ki)|2.162516 |The perf is similar to baseline (And this is the default loop order after tiling).|\n",
    "| s[C].reorder(mo, no, ko, ki, mi, ni)|0.260395 |                                |\n",
    "| s[C].reorder(mo, no, ki, ko, mi, ni)|0.261802 |                                |\n",
    "\n",
    "Why we have to reorder?\n",
    "\n",
    "The main contribution of the blocking is -- the 32x32 blocks of C is being cached during the loop of {mi, ni}. If {ko, ki} is set as the innermost two loop layers, the 32x32 C block will still be kicked out and re-fetched from time to time during the loop of {mi, ni}. The exact value of `kfactor` does not matter too much -- An extreme value of `kfactor=1` or `kfactor=1024` both get nearly the same speedup."
   ]
  },
  {
   "cell_type": "code",
   "execution_count": 64,
   "metadata": {},
   "outputs": [
    {
     "name": "stdout",
     "output_type": "stream",
     "text": [
      "Opt1: 1.104255\n"
     ]
    }
   ],
   "source": [
    "bn = 32\n",
    "kfactor = 8\n",
    "s = te.create_schedule(C.op)\n",
    "\n",
    "# Blocking by loop tiling\n",
    "mo, no, mi, ni = s[C].tile(C.op.axis[0], C.op.axis[1], bn, bn)\n",
    "(kaxis,) = s[C].op.reduce_axis\n",
    "ko, ki = s[C].split(kaxis, factor=kfactor)\n",
    "\n",
    "# Hoist reduction domain outside the blocking loop\n",
    "# s[C].reorder(mo, no, ko, ki, mi, ni)\n",
    "# s[C].reorder(mo, no, ki, ko, mi, ni)\n",
    "\n",
    "func = tvm.build(s, [A, B, C], target=target, name=\"mmult\")\n",
    "assert func\n",
    "\n",
    "c = tvm.nd.array(numpy.zeros((M, N), dtype=dtype), dev)\n",
    "func(a, b, c)\n",
    "tvm.testing.assert_allclose(c.numpy(), answer, rtol=1e-5)\n",
    "\n",
    "# By simply tiling the loop 32x32, and hoisting ko, ki outside the blocking loops,\n",
    "# we can see big speedup compared with the baseline.\n",
    "evaluator = func.time_evaluator(func.entry_name, dev, number=10)\n",
    "print(\"Opt1: %f\" % evaluator(a, b, c).mean)"
   ]
  },
  {
   "cell_type": "markdown",
   "metadata": {},
   "source": [
    "Here is the generated IR after blocking.\n",
    "\n"
   ]
  },
  {
   "cell_type": "code",
   "execution_count": 65,
   "metadata": {},
   "outputs": [
    {
     "name": "stdout",
     "output_type": "stream",
     "text": [
      "primfn(A_1: handle, B_1: handle, C_1: handle) -> ()\n",
      "  attr = {\"from_legacy_te_schedule\": True, \"global_symbol\": \"main\", \"tir.noalias\": True}\n",
      "  buffers = {C: Buffer(C_2: Pointer(float32), float32, [1024, 1024], []),\n",
      "             A: Buffer(A_2: Pointer(float32), float32, [1024, 1024], []),\n",
      "             B: Buffer(B_2: Pointer(float32), float32, [1024, 1024], [])}\n",
      "  buffer_map = {A_1: A, B_1: B, C_1: C} {\n",
      "  allocate(packedB: Pointer(global float32), float32, [1048576]), storage_scope = global {\n",
      "    for (bigN: int32, 0, 32) {\n",
      "      for (k: int32, 0, 1024) {\n",
      "        for (littleN: int32, 0, 32) {\n",
      "          packedB[(((bigN*32768) + (k*32)) + littleN)] = (float32*)B_2[(((k*1024) + (bigN*32)) + littleN)]\n",
      "        }\n",
      "      }\n",
      "    }\n",
      "    for (m.outer: int32, 0, 32) {\n",
      "      for (n.outer: int32, 0, 32) {\n",
      "        for (m.inner: int32, 0, 32) {\n",
      "          for (n.inner: int32, 0, 32) {\n",
      "            C_2[((((m.outer*32768) + (m.inner*1024)) + (n.outer*32)) + n.inner)] = 0f32\n",
      "            for (k.outer: int32, 0, 128) {\n",
      "              for (k.inner: int32, 0, 8) {\n",
      "                C_2[((((m.outer*32768) + (m.inner*1024)) + (n.outer*32)) + n.inner)] = ((float32*)C_2[((((m.outer*32768) + (m.inner*1024)) + (n.outer*32)) + n.inner)] + ((float32*)A_2[((((m.outer*32768) + (m.inner*1024)) + (k.outer*8)) + k.inner)]*(float32*)packedB[((((n.outer*32768) + (k.outer*256)) + (k.inner*32)) + n.inner)]))\n",
      "              }\n",
      "            }\n",
      "          }\n",
      "        }\n",
      "      }\n",
      "    }\n",
      "  }\n",
      "}\n",
      "\n",
      "\n"
     ]
    }
   ],
   "source": [
    "print(tvm.lower(s, [A, B, C], simple_mode=True))"
   ]
  },
  {
   "cell_type": "markdown",
   "metadata": {},
   "source": [
    "Vectorization\n",
    "-------------\n",
    "Another important trick is vectorization. When the memory access pattern is uniform,\n",
    "the compiler can detect this pattern and pass the continuous memory to vector processor. In TVM,\n",
    "we can use `vectorize` interface to hint the compiler this pattern, so that we can accelerate it\n",
    "vastly.\n",
    "\n",
    "In this tutorial, we chose to vectorize the inner loop row data since it is cache friendly.\n",
    "\n"
   ]
  },
  {
   "cell_type": "code",
   "execution_count": 33,
   "metadata": {},
   "outputs": [
    {
     "name": "stdout",
     "output_type": "stream",
     "text": [
      "Opt2: 0.272500\n"
     ]
    }
   ],
   "source": [
    "s = te.create_schedule(C.op)\n",
    "mo, no, mi, ni = s[C].tile(C.op.axis[0], C.op.axis[1], bn, bn)\n",
    "(kaxis,) = s[C].op.reduce_axis\n",
    "ko, ki = s[C].split(kaxis, factor=kfactor)\n",
    "\n",
    "s[C].reorder(mo, no, ko, ki, mi, ni)\n",
    "\n",
    "# Vectorization\n",
    "s[C].vectorize(ni)\n",
    "\n",
    "func = tvm.build(s, [A, B, C], target=target, name=\"mmult\")\n",
    "assert func\n",
    "\n",
    "c = tvm.nd.array(numpy.zeros((M, N), dtype=dtype), dev)\n",
    "func(a, b, c)\n",
    "tvm.testing.assert_allclose(c.numpy(), answer, rtol=1e-5)\n",
    "\n",
    "evaluator = func.time_evaluator(func.entry_name, dev, number=10)\n",
    "print(\"Opt2: %f\" % evaluator(a, b, c).mean)"
   ]
  },
  {
   "cell_type": "markdown",
   "metadata": {},
   "source": [
    "Here is the generated IR after vectorization.\n",
    "\n",
    "- ramp: It is inherited from [Halide](https://halide-lang.org/docs/struct_halide_1_1_internal_1_1_ramp.html), i.e. `ramp(int base, int stride, int lanes)`. It is a vector with `lanes` elements, where element `i` is `base + i*stride`. \n",
    "- broadcast: It is inherited from [Halide](https://halide-lang.org/docs/struct_halide_1_1_internal_1_1_broadcast.html), i.e. `broadcast(int base, int lanes)`. It is a vector with `lanes` elements, in which elements are the same with each other.\n",
    "\n",
    "\n"
   ]
  },
  {
   "cell_type": "code",
   "execution_count": 32,
   "metadata": {},
   "outputs": [
    {
     "name": "stdout",
     "output_type": "stream",
     "text": [
      "primfn(A_1: handle, B_1: handle, C_1: handle) -> ()\n",
      "  attr = {\"from_legacy_te_schedule\": True, \"global_symbol\": \"main\", \"tir.noalias\": True}\n",
      "  buffers = {C: Buffer(C_2: Pointer(float32), float32, [1024, 1024], []),\n",
      "             A: Buffer(A_2: Pointer(float32), float32, [1024, 1024], []),\n",
      "             B: Buffer(B_2: Pointer(float32), float32, [1024, 1024], [])}\n",
      "  buffer_map = {A_1: A, B_1: B, C_1: C} {\n",
      "  for (m.outer: int32, 0, 32) {\n",
      "    for (n.outer: int32, 0, 32) {\n",
      "      for (m.inner.init: int32, 0, 32) {\n",
      "        C_2[ramp((((m.outer*32768) + (m.inner.init*1024)) + (n.outer*32)), 1, 32)] = broadcast(0f32, 32)\n",
      "      }\n",
      "      for (k.outer: int32, 0, 128) {\n",
      "        for (k.inner: int32, 0, 8) {\n",
      "          for (m.inner: int32, 0, 32) {\n",
      "            C_2[ramp((((m.outer*32768) + (m.inner*1024)) + (n.outer*32)), 1, 32)] = ((float32x32*)C_2[ramp((((m.outer*32768) + (m.inner*1024)) + (n.outer*32)), 1, 32)] + (broadcast((float32*)A_2[((((m.outer*32768) + (m.inner*1024)) + (k.outer*8)) + k.inner)], 32)*(float32x32*)B_2[ramp((((k.outer*8192) + (k.inner*1024)) + (n.outer*32)), 1, 32)]))\n",
      "          }\n",
      "        }\n",
      "      }\n",
      "    }\n",
      "  }\n",
      "}\n",
      "\n",
      "\n"
     ]
    }
   ],
   "source": [
    "print(tvm.lower(s, [A, B, C], simple_mode=True))"
   ]
  },
  {
   "cell_type": "code",
   "execution_count": 34,
   "metadata": {},
   "outputs": [],
   "source": [
    "# C_2[ramp((((m.outer*32768) + (m.inner*1024)) + (n.outer*32)), 1, 32)] = \n",
    "# (\n",
    "#     (float32x32*)C_2[ramp((((m.outer*32768) + (m.inner*1024)) + (n.outer*32)), 1, 32)] + \n",
    "#     (\n",
    "#          broadcast(\n",
    "#              (float32*)A_2[(((m.outer*32768) + (m.inner*1024)) + k.outer)], 32\n",
    "#          )*(float32x32*)B_2[ramp(((k.outer*1024) + (n.outer*32)), 1, 32)]\n",
    "#     )\n",
    "# )"
   ]
  },
  {
   "cell_type": "markdown",
   "metadata": {},
   "source": [
    "Loop Permutation\n",
    "----------------\n",
    "If we look at the above IR, we can see the inner loop row data is vectorized for both B and C.\n",
    "Next we will look at the access pattern of A. In current schedule, A is accessed column by column\n",
    "which is not cache friendly. If we change the nested loop order of ki and inner axes mi,\n",
    "the access pattern for A matrix is more cache friendly.\n",
    "\n"
   ]
  },
  {
   "cell_type": "code",
   "execution_count": 47,
   "metadata": {},
   "outputs": [
    {
     "name": "stdout",
     "output_type": "stream",
     "text": [
      "Opt3: 0.119058\n"
     ]
    }
   ],
   "source": [
    "s = te.create_schedule(C.op)\n",
    "kfactor=8\n",
    "mo, no, mi, ni = s[C].tile(C.op.axis[0], C.op.axis[1], bn, bn)\n",
    "(kaxis,) = s[C].op.reduce_axis\n",
    "ko, ki = s[C].split(kaxis, factor=kfactor)\n",
    "\n",
    "# re-ordering\n",
    "s[C].reorder(mo, no, ko, mi, ki, ni)\n",
    "s[C].vectorize(ni)\n",
    "\n",
    "func = tvm.build(s, [A, B, C], target=target, name=\"mmult\")\n",
    "assert func\n",
    "\n",
    "c = tvm.nd.array(numpy.zeros((M, N), dtype=dtype), dev)\n",
    "func(a, b, c)\n",
    "tvm.testing.assert_allclose(c.numpy(), answer, rtol=1e-5)\n",
    "\n",
    "evaluator = func.time_evaluator(func.entry_name, dev, number=10)\n",
    "print(\"Opt3: %f\" % evaluator(a, b, c).mean)"
   ]
  },
  {
   "cell_type": "markdown",
   "metadata": {},
   "source": [
    "Here is the generated IR after loop permutation.\n",
    "\n"
   ]
  },
  {
   "cell_type": "code",
   "execution_count": 48,
   "metadata": {},
   "outputs": [
    {
     "name": "stdout",
     "output_type": "stream",
     "text": [
      "primfn(A_1: handle, B_1: handle, C_1: handle) -> ()\n",
      "  attr = {\"from_legacy_te_schedule\": True, \"global_symbol\": \"main\", \"tir.noalias\": True}\n",
      "  buffers = {C: Buffer(C_2: Pointer(float32), float32, [1024, 1024], []),\n",
      "             A: Buffer(A_2: Pointer(float32), float32, [1024, 1024], []),\n",
      "             B: Buffer(B_2: Pointer(float32), float32, [1024, 1024], [])}\n",
      "  buffer_map = {A_1: A, B_1: B, C_1: C} {\n",
      "  for (m.outer: int32, 0, 32) {\n",
      "    for (n.outer: int32, 0, 32) {\n",
      "      for (m.inner.init: int32, 0, 32) {\n",
      "        C_2[ramp((((m.outer*32768) + (m.inner.init*1024)) + (n.outer*32)), 1, 32)] = broadcast(0f32, 32)\n",
      "      }\n",
      "      for (k.outer: int32, 0, 128) {\n",
      "        for (m.inner: int32, 0, 32) {\n",
      "          for (k.inner: int32, 0, 8) {\n",
      "            C_2[ramp((((m.outer*32768) + (m.inner*1024)) + (n.outer*32)), 1, 32)] = ((float32x32*)C_2[ramp((((m.outer*32768) + (m.inner*1024)) + (n.outer*32)), 1, 32)] + (broadcast((float32*)A_2[((((m.outer*32768) + (m.inner*1024)) + (k.outer*8)) + k.inner)], 32)*(float32x32*)B_2[ramp((((k.outer*8192) + (k.inner*1024)) + (n.outer*32)), 1, 32)]))\n",
      "          }\n",
      "        }\n",
      "      }\n",
      "    }\n",
      "  }\n",
      "}\n",
      "\n",
      "\n"
     ]
    }
   ],
   "source": [
    "print(tvm.lower(s, [A, B, C], simple_mode=True))"
   ]
  },
  {
   "cell_type": "markdown",
   "metadata": {},
   "source": [
    "Array Packing\n",
    "-------------\n",
    "Another important trick is array packing. The trick is to reorder the storage of a multi-dimensional array so that it is accessed sequentially after it is flattened and stored in one-dimensional memory.\n",
    "\n",
    "![](https://github.com/dmlc/web-data/raw/main/tvm/tutorial/array-packing.png)\n",
    "\n",
    "     :align: center\n",
    "\n",
    "NOTE: This figure is a general illustration of how array packing works.\n",
    "\n"
   ]
  },
  {
   "cell_type": "markdown",
   "metadata": {},
   "source": [
    "We can use array packing to address the access pattern for B. Observe the array access pattern of\n",
    "B after flattening which is not sequential as we iterate over the K dimension. We can reorder B\n",
    "with dimensions [K][N] so that it has dimensions [N/bn][K][bn] where bn is the blocking factor and\n",
    "also the vector size for B in the inner loop.  This reorder splits N into two dimensions ---\n",
    "bigN (N/bn) and littleN (bn) --- and the new dimensions [N/bn][K][bn] match the indexing of B\n",
    "from outer to inner loops (no, ko, ki, ni) resulting in a sequential access pattern for B after\n",
    "flattening.\n",
    "\n"
   ]
  },
  {
   "cell_type": "code",
   "execution_count": 50,
   "metadata": {},
   "outputs": [
    {
     "name": "stdout",
     "output_type": "stream",
     "text": [
      "Opt4: 0.145389\n"
     ]
    }
   ],
   "source": [
    "# We have to re-write the algorithm slightly.\n",
    "packedB = te.compute(\n",
    "    (N / bn, K, bn), lambda bigN, k, littleN: B[k, bigN * bn + littleN], name=\"packedB\"\n",
    ")\n",
    "C = te.compute(\n",
    "    (M, N),\n",
    "    lambda m, n: te.sum(A[m, k] * packedB[n // bn, k, tvm.tir.indexmod(n, bn)], axis=k),\n",
    "    name=\"C\",\n",
    ")\n",
    "\n",
    "s = te.create_schedule(C.op)\n",
    "\n",
    "mo, no, mi, ni = s[C].tile(C.op.axis[0], C.op.axis[1], bn, bn)\n",
    "(kaxis,) = s[C].op.reduce_axis\n",
    "ko, ki = s[C].split(kaxis, factor=kfactor)\n",
    "\n",
    "s[C].reorder(mo, no, ko, mi, ki, ni)\n",
    "s[C].vectorize(ni)\n",
    "\n",
    "bigN, _, littleN = s[packedB].op.axis\n",
    "s[packedB].vectorize(littleN)\n",
    "s[packedB].parallel(bigN)\n",
    "\n",
    "func = tvm.build(s, [A, B, C], target=target, name=\"mmult\")\n",
    "assert func\n",
    "\n",
    "c = tvm.nd.array(numpy.zeros((M, N), dtype=dtype), dev)\n",
    "func(a, b, c)\n",
    "tvm.testing.assert_allclose(c.numpy(), answer, rtol=1e-5)\n",
    "\n",
    "evaluator = func.time_evaluator(func.entry_name, dev, number=10)\n",
    "print(\"Opt4: %f\" % evaluator(a, b, c).mean)"
   ]
  },
  {
   "cell_type": "markdown",
   "metadata": {},
   "source": [
    "Here is the generated IR after array packing.\n",
    "\n"
   ]
  },
  {
   "cell_type": "code",
   "execution_count": 51,
   "metadata": {},
   "outputs": [
    {
     "name": "stdout",
     "output_type": "stream",
     "text": [
      "primfn(A_1: handle, B_1: handle, C_1: handle) -> ()\n",
      "  attr = {\"from_legacy_te_schedule\": True, \"global_symbol\": \"main\", \"tir.noalias\": True}\n",
      "  buffers = {C: Buffer(C_2: Pointer(float32), float32, [1024, 1024], []),\n",
      "             A: Buffer(A_2: Pointer(float32), float32, [1024, 1024], []),\n",
      "             B: Buffer(B_2: Pointer(float32), float32, [1024, 1024], [])}\n",
      "  buffer_map = {A_1: A, B_1: B, C_1: C} {\n",
      "  allocate(packedB: Pointer(global float32x32), float32x32, [32768]), storage_scope = global {\n",
      "    for (bigN: int32, 0, 32) \"parallel\" {\n",
      "      for (k: int32, 0, 1024) {\n",
      "        packedB[ramp(((bigN*32768) + (k*32)), 1, 32)] = (float32x32*)B_2[ramp(((k*1024) + (bigN*32)), 1, 32)]\n",
      "      }\n",
      "    }\n",
      "    for (m.outer: int32, 0, 32) {\n",
      "      for (n.outer: int32, 0, 32) {\n",
      "        for (m.inner.init: int32, 0, 32) {\n",
      "          C_2[ramp((((m.outer*32768) + (m.inner.init*1024)) + (n.outer*32)), 1, 32)] = broadcast(0f32, 32)\n",
      "        }\n",
      "        for (k.outer: int32, 0, 128) {\n",
      "          for (m.inner: int32, 0, 32) {\n",
      "            for (k.inner: int32, 0, 8) {\n",
      "              C_2[ramp((((m.outer*32768) + (m.inner*1024)) + (n.outer*32)), 1, 32)] = ((float32x32*)C_2[ramp((((m.outer*32768) + (m.inner*1024)) + (n.outer*32)), 1, 32)] + (broadcast((float32*)A_2[((((m.outer*32768) + (m.inner*1024)) + (k.outer*8)) + k.inner)], 32)*(float32x32*)packedB[ramp((((n.outer*32768) + (k.outer*256)) + (k.inner*32)), 1, 32)]))\n",
      "            }\n",
      "          }\n",
      "        }\n",
      "      }\n",
      "    }\n",
      "  }\n",
      "}\n",
      "\n",
      "\n"
     ]
    }
   ],
   "source": [
    "print(tvm.lower(s, [A, B, C], simple_mode=True))"
   ]
  },
  {
   "cell_type": "code",
   "execution_count": null,
   "metadata": {},
   "outputs": [],
   "source": [
    "# buffer_map = {A_1: A, B_1: B, C_1: C} {\n",
    "#   allocate(packedB: Pointer(global float32x32), float32x32, [32768]), storage_scope = global {\n",
    "      \n",
    "#     for (bigN: int32, 0, 32) \"parallel\" {  # s[packedB].parallel(bigN)\n",
    "#       for (k: int32, 0, 1024) {\n",
    "#         packedB[ramp(((bigN*32768) + (k*32)), 1, 32)] = (float32x32*)B_2[ramp(((k*1024) + (bigN*32)), 1, 32)] # s[packedB].vectorize(littleN)\n",
    "#       }\n",
    "#     }\n",
    "      \n",
    "#     for (m.outer: int32, 0, 32) {\n",
    "#       for (n.outer: int32, 0, 32) {\n",
    "          \n",
    "#         for (m.inner.init: int32, 0, 32) {\n",
    "#           C_2[ramp((((m.outer*32768) + (m.inner.init*1024)) + (n.outer*32)), 1, 32)] = broadcast(0f32, 32)\n",
    "#         }\n",
    "          \n",
    "#         for (k.outer: int32, 0, 128) {\n",
    "#           for (m.inner: int32, 0, 32) {\n",
    "#             for (k.inner: int32, 0, 8) {\n",
    "#               C_2[ramp((((m.outer*32768) + (m.inner*1024)) + (n.outer*32)), 1, 32)] = \n",
    "#                 (\n",
    "#                     (float32x32*)C_2[ramp((((m.outer*32768) + (m.inner*1024)) + (n.outer*32)), 1, 32)] \n",
    "#                   + (\n",
    "#                       broadcast(\n",
    "#                           (float32*)A_2[((((m.outer*32768) + (m.inner*1024)) + (k.outer*8)) + k.inner)], 32\n",
    "#                       )*(float32x32*)packedB[ramp((((n.outer*32768) + (k.outer*256)) + (k.inner*32)), 1, 32)]\n",
    "#                     )\n",
    "#                 ) # s[C].vectorize(ni)\n",
    "#             }\n",
    "#           }\n",
    "#         }\n",
    "          \n",
    "#       }\n",
    "#     }\n",
    "      \n",
    "#   }\n",
    "# }"
   ]
  },
  {
   "cell_type": "markdown",
   "metadata": {},
   "source": [
    "Write cache for blocks\n",
    "----------------------\n",
    "After blocking, the program will write result to C block by block, the access pattern\n",
    "is not sequential. So we can use a sequential cache array to hold the block results and\n",
    "write to C when all the block results are ready.\n",
    "\n",
    "\n"
   ]
  },
  {
   "cell_type": "code",
   "execution_count": 70,
   "metadata": {},
   "outputs": [
    {
     "name": "stdout",
     "output_type": "stream",
     "text": [
      "Opt5: 0.155067\n"
     ]
    }
   ],
   "source": [
    "bn = 8\n",
    "s = te.create_schedule(C.op)\n",
    "\n",
    "# Allocate write cache\n",
    "CC = s.cache_write(C, \"global\")\n",
    "\n",
    "mo, no, mi, ni = s[C].tile(C.op.axis[0], C.op.axis[1], bn, bn)\n",
    "\n",
    "# Write cache is computed at no\n",
    "s[CC].compute_at(s[C], no) # write cache every time when a {mi, ni} block of C is computed\n",
    "\n",
    "# New inner axes\n",
    "mc, nc = s[CC].op.axis  # {mc, nc} are used to replace {mi, ni}\n",
    "\n",
    "(kaxis,) = s[CC].op.reduce_axis\n",
    "ko, ki = s[CC].split(kaxis, factor=kfactor)\n",
    "s[CC].reorder(ko, mc, ki, nc)\n",
    "s[CC].vectorize(nc)\n",
    "\n",
    "# TODO: Add separate optimization step to discuss loop unrolloing\n",
    "# unrolling is a loop optimization strategy which can reduce branch\n",
    "# prediction failures and increases the chance of concurrent execution\n",
    "# unroll kfactor loops\n",
    "s[CC].unroll(ki)\n",
    "\n",
    "bigN, _, littleN = s[packedB].op.axis\n",
    "s[packedB].vectorize(littleN)\n",
    "s[packedB].parallel(bigN)\n",
    "\n",
    "func = tvm.build(s, [A, B, C], target=target, name=\"mmult\")\n",
    "assert func\n",
    "\n",
    "c = tvm.nd.array(numpy.zeros((M, N), dtype=dtype), dev)\n",
    "func(a, b, c)\n",
    "tvm.testing.assert_allclose(c.numpy(), answer, rtol=1e-5)\n",
    "\n",
    "evaluator = func.time_evaluator(func.entry_name, dev, number=10)\n",
    "print(\"Opt5: %f\" % evaluator(a, b, c).mean)"
   ]
  },
  {
   "cell_type": "code",
   "execution_count": 67,
   "metadata": {},
   "outputs": [
    {
     "name": "stdout",
     "output_type": "stream",
     "text": [
      "iter_var(m.c, range(min=0, ext=1024)) iter_var(n.c, range(min=0, ext=1024)) 8 8\n",
      "iter_var(m.outer, ) iter_var(n.outer, ) iter_var(m.inner, ) iter_var(n.inner, ) iter_var(k.outer, ) iter_var(k.inner, )\n"
     ]
    }
   ],
   "source": [
    "print(mc, nc, bn, kfactor)\n",
    "print(mo, no, mi, ni, ko, ki)"
   ]
  },
  {
   "cell_type": "markdown",
   "metadata": {},
   "source": [
    "Here is the generated IR after blocking.\n",
    "\n"
   ]
  },
  {
   "cell_type": "code",
   "execution_count": 68,
   "metadata": {},
   "outputs": [
    {
     "name": "stdout",
     "output_type": "stream",
     "text": [
      "primfn(A_1: handle, B_1: handle, C_1: handle) -> ()\n",
      "  attr = {\"from_legacy_te_schedule\": True, \"global_symbol\": \"main\", \"tir.noalias\": True}\n",
      "  buffers = {C: Buffer(C_2: Pointer(float32), float32, [1024, 1024], []),\n",
      "             A: Buffer(A_2: Pointer(float32), float32, [1024, 1024], []),\n",
      "             B: Buffer(B_2: Pointer(float32), float32, [1024, 1024], [])}\n",
      "  buffer_map = {A_1: A, B_1: B, C_1: C} {\n",
      "  allocate(packedB: Pointer(global float32), float32, [1048576]), storage_scope = global;\n",
      "  allocate(C.global: Pointer(global float32), float32, [64]), storage_scope = global {\n",
      "    for (bigN: int32, 0, 32) \"parallel\" {\n",
      "      for (k: int32, 0, 1024) {\n",
      "        packedB[ramp(((bigN*32768) + (k*32)), 1, 32)] = (float32x32*)B_2[ramp(((k*1024) + (bigN*32)), 1, 32)]\n",
      "      }\n",
      "    }\n",
      "    for (m.outer: int32, 0, 128) {\n",
      "      for (n.outer: int32, 0, 128) {\n",
      "        for (m.c.init: int32, 0, 8) {\n",
      "          C.global[ramp((m.c.init*8), 1, 8)] = broadcast(0f32, 8)\n",
      "        }\n",
      "        for (k.outer: int32, 0, 128) {\n",
      "          for (m.c: int32, 0, 8) {\n",
      "            C.global[ramp((m.c*8), 1, 8)] = ((float32x8*)C.global[ramp((m.c*8), 1, 8)] + (broadcast((float32*)A_2[(((m.outer*8192) + (m.c*1024)) + (k.outer*8))], 8)*(float32x8*)packedB[ramp((((floordiv(n.outer, 4)*32768) + (k.outer*256)) + (floormod(n.outer, 4)*8)), 1, 8)]))\n",
      "            C.global[ramp((m.c*8), 1, 8)] = ((float32x8*)C.global[ramp((m.c*8), 1, 8)] + (broadcast((float32*)A_2[((((m.outer*8192) + (m.c*1024)) + (k.outer*8)) + 1)], 8)*(float32x8*)packedB[ramp(((((floordiv(n.outer, 4)*32768) + (k.outer*256)) + (floormod(n.outer, 4)*8)) + 32), 1, 8)]))\n",
      "            C.global[ramp((m.c*8), 1, 8)] = ((float32x8*)C.global[ramp((m.c*8), 1, 8)] + (broadcast((float32*)A_2[((((m.outer*8192) + (m.c*1024)) + (k.outer*8)) + 2)], 8)*(float32x8*)packedB[ramp(((((floordiv(n.outer, 4)*32768) + (k.outer*256)) + (floormod(n.outer, 4)*8)) + 64), 1, 8)]))\n",
      "            C.global[ramp((m.c*8), 1, 8)] = ((float32x8*)C.global[ramp((m.c*8), 1, 8)] + (broadcast((float32*)A_2[((((m.outer*8192) + (m.c*1024)) + (k.outer*8)) + 3)], 8)*(float32x8*)packedB[ramp(((((floordiv(n.outer, 4)*32768) + (k.outer*256)) + (floormod(n.outer, 4)*8)) + 96), 1, 8)]))\n",
      "            C.global[ramp((m.c*8), 1, 8)] = ((float32x8*)C.global[ramp((m.c*8), 1, 8)] + (broadcast((float32*)A_2[((((m.outer*8192) + (m.c*1024)) + (k.outer*8)) + 4)], 8)*(float32x8*)packedB[ramp(((((floordiv(n.outer, 4)*32768) + (k.outer*256)) + (floormod(n.outer, 4)*8)) + 128), 1, 8)]))\n",
      "            C.global[ramp((m.c*8), 1, 8)] = ((float32x8*)C.global[ramp((m.c*8), 1, 8)] + (broadcast((float32*)A_2[((((m.outer*8192) + (m.c*1024)) + (k.outer*8)) + 5)], 8)*(float32x8*)packedB[ramp(((((floordiv(n.outer, 4)*32768) + (k.outer*256)) + (floormod(n.outer, 4)*8)) + 160), 1, 8)]))\n",
      "            C.global[ramp((m.c*8), 1, 8)] = ((float32x8*)C.global[ramp((m.c*8), 1, 8)] + (broadcast((float32*)A_2[((((m.outer*8192) + (m.c*1024)) + (k.outer*8)) + 6)], 8)*(float32x8*)packedB[ramp(((((floordiv(n.outer, 4)*32768) + (k.outer*256)) + (floormod(n.outer, 4)*8)) + 192), 1, 8)]))\n",
      "            C.global[ramp((m.c*8), 1, 8)] = ((float32x8*)C.global[ramp((m.c*8), 1, 8)] + (broadcast((float32*)A_2[((((m.outer*8192) + (m.c*1024)) + (k.outer*8)) + 7)], 8)*(float32x8*)packedB[ramp(((((floordiv(n.outer, 4)*32768) + (k.outer*256)) + (floormod(n.outer, 4)*8)) + 224), 1, 8)]))\n",
      "          }\n",
      "        }\n",
      "        for (m.inner: int32, 0, 8) {\n",
      "          for (n.inner: int32, 0, 8) {\n",
      "            C_2[((((m.outer*8192) + (m.inner*1024)) + (n.outer*8)) + n.inner)] = (float32*)C.global[((m.inner*8) + n.inner)]\n",
      "          }\n",
      "        }\n",
      "      }\n",
      "    }\n",
      "  }\n",
      "}\n",
      "\n",
      "\n"
     ]
    }
   ],
   "source": [
    "print(tvm.lower(s, [A, B, C], simple_mode=True))"
   ]
  },
  {
   "cell_type": "markdown",
   "metadata": {},
   "source": [
    "Parallel\n",
    "--------\n",
    "Futhermore, we can also utilize multi-core processors to do the thread-level parallelization.\n",
    "- parallel: it is for thread-level parallelization on multi-core processor.\n",
    "- vectorize: it is for SIMD instruction in a single-thread.\n"
   ]
  },
  {
   "cell_type": "code",
   "execution_count": 72,
   "metadata": {},
   "outputs": [
    {
     "name": "stdout",
     "output_type": "stream",
     "text": [
      "Opt6: 0.014780\n"
     ]
    }
   ],
   "source": [
    "s = te.create_schedule(C.op)\n",
    "\n",
    "CC = s.cache_write(C, \"global\")\n",
    "\n",
    "mo, no, mi, ni = s[C].tile(C.op.axis[0], C.op.axis[1], bn, bn)\n",
    "\n",
    "s[CC].compute_at(s[C], no)\n",
    "\n",
    "mc, nc = s[CC].op.axis\n",
    "\n",
    "(kaxis,) = s[CC].op.reduce_axis\n",
    "ko, ki = s[CC].split(kaxis, factor=kfactor)\n",
    "s[CC].reorder(ko, mc, ki, nc)\n",
    "s[CC].vectorize(nc)\n",
    "s[CC].unroll(ki)\n",
    "\n",
    "# parallel\n",
    "s[C].parallel(mo)\n",
    "\n",
    "bigN, _, littleN = s[packedB].op.axis\n",
    "s[packedB].vectorize(littleN)\n",
    "s[packedB].parallel(bigN)\n",
    "\n",
    "func = tvm.build(s, [A, B, C], target=target, name=\"mmult\")\n",
    "assert func\n",
    "\n",
    "c = tvm.nd.array(numpy.zeros((M, N), dtype=dtype), dev)\n",
    "func(a, b, c)\n",
    "tvm.testing.assert_allclose(c.numpy(), answer, rtol=1e-5)\n",
    "\n",
    "evaluator = func.time_evaluator(func.entry_name, dev, number=50)\n",
    "opt6_time = evaluator(a, b, c).mean\n",
    "print(\"Opt6: %f\" % opt6_time)"
   ]
  },
  {
   "cell_type": "markdown",
   "metadata": {},
   "source": [
    "Here is the generated IR after parallelization.\n",
    "\n"
   ]
  },
  {
   "cell_type": "code",
   "execution_count": 55,
   "metadata": {},
   "outputs": [
    {
     "name": "stdout",
     "output_type": "stream",
     "text": [
      "primfn(A_1: handle, B_1: handle, C_1: handle) -> ()\n",
      "  attr = {\"from_legacy_te_schedule\": True, \"global_symbol\": \"main\", \"tir.noalias\": True}\n",
      "  buffers = {C: Buffer(C_2: Pointer(float32), float32, [1024, 1024], []),\n",
      "             A: Buffer(A_2: Pointer(float32), float32, [1024, 1024], []),\n",
      "             B: Buffer(B_2: Pointer(float32), float32, [1024, 1024], [])}\n",
      "  buffer_map = {A_1: A, B_1: B, C_1: C} {\n",
      "  allocate(packedB: Pointer(global float32x32), float32x32, [32768]), storage_scope = global {\n",
      "    for (bigN: int32, 0, 32) \"parallel\" {\n",
      "      for (k: int32, 0, 1024) {\n",
      "        packedB[ramp(((bigN*32768) + (k*32)), 1, 32)] = (float32x32*)B_2[ramp(((k*1024) + (bigN*32)), 1, 32)]\n",
      "      }\n",
      "    }\n",
      "    for (m.outer: int32, 0, 32) \"parallel\" {\n",
      "      allocate(C.global: Pointer(global float32), float32, [1024]), storage_scope = global;\n",
      "      for (n.outer: int32, 0, 32) {\n",
      "        for (m.c.init: int32, 0, 32) {\n",
      "          C.global[ramp((m.c.init*32), 1, 32)] = broadcast(0f32, 32)\n",
      "        }\n",
      "        for (k.outer: int32, 0, 128) {\n",
      "          for (m.c: int32, 0, 32) {\n",
      "            C.global[ramp((m.c*32), 1, 32)] = ((float32x32*)C.global[ramp((m.c*32), 1, 32)] + (broadcast((float32*)A_2[(((m.outer*32768) + (m.c*1024)) + (k.outer*8))], 32)*(float32x32*)packedB[ramp(((n.outer*32768) + (k.outer*256)), 1, 32)]))\n",
      "            C.global[ramp((m.c*32), 1, 32)] = ((float32x32*)C.global[ramp((m.c*32), 1, 32)] + (broadcast((float32*)A_2[((((m.outer*32768) + (m.c*1024)) + (k.outer*8)) + 1)], 32)*(float32x32*)packedB[ramp((((n.outer*32768) + (k.outer*256)) + 32), 1, 32)]))\n",
      "            C.global[ramp((m.c*32), 1, 32)] = ((float32x32*)C.global[ramp((m.c*32), 1, 32)] + (broadcast((float32*)A_2[((((m.outer*32768) + (m.c*1024)) + (k.outer*8)) + 2)], 32)*(float32x32*)packedB[ramp((((n.outer*32768) + (k.outer*256)) + 64), 1, 32)]))\n",
      "            C.global[ramp((m.c*32), 1, 32)] = ((float32x32*)C.global[ramp((m.c*32), 1, 32)] + (broadcast((float32*)A_2[((((m.outer*32768) + (m.c*1024)) + (k.outer*8)) + 3)], 32)*(float32x32*)packedB[ramp((((n.outer*32768) + (k.outer*256)) + 96), 1, 32)]))\n",
      "            C.global[ramp((m.c*32), 1, 32)] = ((float32x32*)C.global[ramp((m.c*32), 1, 32)] + (broadcast((float32*)A_2[((((m.outer*32768) + (m.c*1024)) + (k.outer*8)) + 4)], 32)*(float32x32*)packedB[ramp((((n.outer*32768) + (k.outer*256)) + 128), 1, 32)]))\n",
      "            C.global[ramp((m.c*32), 1, 32)] = ((float32x32*)C.global[ramp((m.c*32), 1, 32)] + (broadcast((float32*)A_2[((((m.outer*32768) + (m.c*1024)) + (k.outer*8)) + 5)], 32)*(float32x32*)packedB[ramp((((n.outer*32768) + (k.outer*256)) + 160), 1, 32)]))\n",
      "            C.global[ramp((m.c*32), 1, 32)] = ((float32x32*)C.global[ramp((m.c*32), 1, 32)] + (broadcast((float32*)A_2[((((m.outer*32768) + (m.c*1024)) + (k.outer*8)) + 6)], 32)*(float32x32*)packedB[ramp((((n.outer*32768) + (k.outer*256)) + 192), 1, 32)]))\n",
      "            C.global[ramp((m.c*32), 1, 32)] = ((float32x32*)C.global[ramp((m.c*32), 1, 32)] + (broadcast((float32*)A_2[((((m.outer*32768) + (m.c*1024)) + (k.outer*8)) + 7)], 32)*(float32x32*)packedB[ramp((((n.outer*32768) + (k.outer*256)) + 224), 1, 32)]))\n",
      "          }\n",
      "        }\n",
      "        for (m.inner: int32, 0, 32) {\n",
      "          for (n.inner: int32, 0, 32) {\n",
      "            C_2[((((m.outer*32768) + (m.inner*1024)) + (n.outer*32)) + n.inner)] = (float32*)C.global[((m.inner*32) + n.inner)]\n",
      "          }\n",
      "        }\n",
      "      }\n",
      "    }\n",
      "  }\n",
      "}\n",
      "\n",
      "\n"
     ]
    }
   ],
   "source": [
    "print(tvm.lower(s, [A, B, C], simple_mode=True))"
   ]
  },
  {
   "cell_type": "markdown",
   "metadata": {},
   "source": [
    "Summary\n",
    "-------\n",
    "After applying the above simple optimizations with only 18 lines of code,\n",
    "our generated code can achieve 60% of the `numpy` performance with MKL.\n",
    "Note that the outputs on the web page reflect the running times on a non-exclusive\n",
    "Docker container, thereby they are *unreliable*. It is highly encouraged to run the\n",
    "tutorial by yourself to observe the performance gain acheived by TVM.\n",
    "\n"
   ]
  },
  {
   "cell_type": "code",
   "execution_count": null,
   "metadata": {},
   "outputs": [],
   "source": []
  }
 ],
 "metadata": {
  "kernelspec": {
   "display_name": "Python 3",
   "language": "python",
   "name": "python3"
  },
  "language_info": {
   "codemirror_mode": {
    "name": "ipython",
    "version": 3
   },
   "file_extension": ".py",
   "mimetype": "text/x-python",
   "name": "python",
   "nbconvert_exporter": "python",
   "pygments_lexer": "ipython3",
   "version": "3.7.3"
  }
 },
 "nbformat": 4,
 "nbformat_minor": 1
}
